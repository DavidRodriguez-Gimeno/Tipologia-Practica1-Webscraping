{
 "cells": [
  {
   "cell_type": "markdown",
   "metadata": {},
   "source": [
    "# Tipologia y ciclo de vida de los datos.PRACTICA 1. Web Scraping"
   ]
  },
  {
   "cell_type": "markdown",
   "metadata": {},
   "source": [
    "El objetivo de esta practica es scrapear una website de venta de ordenadores y crear una base de datos con los ordenadores resultantes. Almacenando sus diferentes caracterisiticas: precio, marca, modelo, valoracion........"
   ]
  },
  {
   "cell_type": "code",
   "execution_count": 3,
   "metadata": {
    "collapsed": false
   },
   "outputs": [
    {
     "name": "stdout",
     "output_type": "stream",
     "text": [
      "Requirement already satisfied: bs4 in c:\\users\\darog\\anaconda2\\lib\\site-packages\n",
      "Requirement already satisfied: beautifulsoup4 in c:\\users\\darog\\anaconda2\\lib\\site-packages (from bs4)\n"
     ]
    }
   ],
   "source": [
    "!pip install bs4 "
   ]
  },
  {
   "cell_type": "code",
   "execution_count": 4,
   "metadata": {
    "collapsed": true
   },
   "outputs": [],
   "source": [
    "#importo las librerias que necesitare\n",
    "\n",
    "import urllib2\n",
    "import urllib\n",
    "import bs4\n",
    "import re\n",
    "from bs4 import BeautifulSoup as soup"
   ]
  },
  {
   "cell_type": "code",
   "execution_count": 5,
   "metadata": {
    "collapsed": false
   },
   "outputs": [
    {
     "name": "stdout",
     "output_type": "stream",
     "text": [
      "Requirement already satisfied: python-whois in c:\\users\\darog\\anaconda2\\lib\\site-packages\n",
      "Requirement already satisfied: future in c:\\users\\darog\\anaconda2\\lib\\site-packages (from python-whois)\n"
     ]
    }
   ],
   "source": [
    "!pip install python-whois"
   ]
  },
  {
   "cell_type": "code",
   "execution_count": 6,
   "metadata": {
    "collapsed": false
   },
   "outputs": [
    {
     "name": "stdout",
     "output_type": "stream",
     "text": [
      "{\n",
      "  \"updated_date\": [\n",
      "    \"2015-03-03 13:42:09\", \n",
      "    \"2015-03-02 14:46:50\"\n",
      "  ], \n",
      "  \"status\": [\n",
      "    \"clientDeleteProhibited https://icann.org/epp#clientDeleteProhibited\", \n",
      "    \"clientTransferProhibited https://icann.org/epp#clientTransferProhibited\", \n",
      "    \"clientUpdateProhibited https://icann.org/epp#clientUpdateProhibited\", \n",
      "    \"serverDeleteProhibited https://icann.org/epp#serverDeleteProhibited\", \n",
      "    \"serverTransferProhibited https://icann.org/epp#serverTransferProhibited\", \n",
      "    \"serverUpdateProhibited https://icann.org/epp#serverUpdateProhibited\", \n",
      "    \"clientUpdateProhibited (https://www.icann.org/epp#clientUpdateProhibited)\", \n",
      "    \"clientTransferProhibited (https://www.icann.org/epp#clientTransferProhibited)\", \n",
      "    \"clientDeleteProhibited (https://www.icann.org/epp#clientDeleteProhibited)\", \n",
      "    \"serverUpdateProhibited (https://www.icann.org/epp#serverUpdateProhibited)\", \n",
      "    \"serverTransferProhibited (https://www.icann.org/epp#serverTransferProhibited)\", \n",
      "    \"serverDeleteProhibited (https://www.icann.org/epp#serverDeleteProhibited)\"\n",
      "  ], \n",
      "  \"name\": \"Domain Administrator\", \n",
      "  \"dnssec\": \"unsigned\", \n",
      "  \"city\": \"Richfield\", \n",
      "  \"expiration_date\": [\n",
      "    \"2020-03-04 05:00:00\", \n",
      "    \"2020-03-03 21:00:00\"\n",
      "  ], \n",
      "  \"zipcode\": \"55423\", \n",
      "  \"domain_name\": [\n",
      "    \"BESTBUY.COM\", \n",
      "    \"bestbuy.com\"\n",
      "  ], \n",
      "  \"country\": \"US\", \n",
      "  \"whois_server\": \"whois.markmonitor.com\", \n",
      "  \"state\": \"MN\", \n",
      "  \"registrar\": \"MarkMonitor, Inc.\", \n",
      "  \"referral_url\": null, \n",
      "  \"address\": \"7601 Penn Avenue South, B6 - Legal Dept\", \n",
      "  \"name_servers\": [\n",
      "    \"ASIA3.AKAM.NET\", \n",
      "    \"EUR1.AKAM.NET\", \n",
      "    \"EUR2.AKAM.NET\", \n",
      "    \"NS1-118.AKAM.NET\", \n",
      "    \"NS1-119.AKAM.NET\", \n",
      "    \"USC2.AKAM.NET\", \n",
      "    \"USE1.AKAM.NET\", \n",
      "    \"USW2.AKAM.NET\", \n",
      "    \"usw2.akam.net\", \n",
      "    \"eur2.akam.net\", \n",
      "    \"use1.akam.net\", \n",
      "    \"ns1-118.akam.net\", \n",
      "    \"usc2.akam.net\", \n",
      "    \"asia3.akam.net\", \n",
      "    \"eur1.akam.net\", \n",
      "    \"ns1-119.akam.net\"\n",
      "  ], \n",
      "  \"org\": \"BBY Solutions, Inc.\", \n",
      "  \"creation_date\": [\n",
      "    \"1994-03-03 05:00:00\", \n",
      "    \"1994-03-02 21:00:00\"\n",
      "  ], \n",
      "  \"emails\": [\n",
      "    \"abusecomplaints@markmonitor.com\", \n",
      "    \"domain.admin@BESTBUY.COM\", \n",
      "    \"domain.tech@BESTBUY.COM\"\n",
      "  ]\n",
      "}\n"
     ]
    }
   ],
   "source": [
    "#veamos a quien pertencen los datos\n",
    "import whois\n",
    "print whois.whois('https://www.bestbuy.com/site/laptop-computers/all-laptops/pcmcat138500050001.c?id=pcmcat138500050001')"
   ]
  },
  {
   "cell_type": "code",
   "execution_count": 7,
   "metadata": {
    "collapsed": true
   },
   "outputs": [],
   "source": [
    "#urllib2 es un modulo de Python que usare para \"agarrar\" los URLs.Beautifulsoup me sirve para diseccionar texto html"
   ]
  },
  {
   "cell_type": "code",
   "execution_count": 8,
   "metadata": {
    "collapsed": false
   },
   "outputs": [],
   "source": [
    "#from urllib2.Request import urlopen as uReq, en principio no lo necesito, bastara con llamar el apquete y despues los modulos\n",
    "#por ejemplo  request = urllib2.Request(url,headers=headers)\n"
   ]
  },
  {
   "cell_type": "code",
   "execution_count": 9,
   "metadata": {
    "collapsed": false
   },
   "outputs": [],
   "source": [
    "my_url = \"https://www.bestbuy.com/site/laptop-computers/all-laptops/pcmcat138500050001.c?id=pcmcat138500050001\"\n",
    "\n",
    "uClient = urllib2.urlopen(my_url)  #abro una conexion para agarrar la pagina\n",
    "page_html = uClient.read()  #vacio el contenido de la web en una variable\n",
    "uClient.close() \n",
    "#llamo a la funcion BeatifulSoup con la pagina que hemos descargado y le decimos que diseccione como html \n",
    "page_soup = soup(page_html, \"html.parser\")"
   ]
  },
  {
   "cell_type": "code",
   "execution_count": 10,
   "metadata": {
    "collapsed": false
   },
   "outputs": [
    {
     "data": {
      "text/plain": [
       "<h1 class=\"type-page-label-alt \">All Laptops</h1>"
      ]
     },
     "execution_count": 10,
     "metadata": {},
     "output_type": "execute_result"
    }
   ],
   "source": [
    "#los siguientes 3 comandos son para ver si funciona y realmente estoy accediendo a la web, llamemos en la pagina de bestbuy \n",
    "#aquella parte que tenga la etiqueta h1 \n",
    "page_soup.h1"
   ]
  },
  {
   "cell_type": "code",
   "execution_count": 11,
   "metadata": {
    "collapsed": false
   },
   "outputs": [
    {
     "data": {
      "text/plain": [
       "<p>Bring superior sound to your home theater.</p>"
      ]
     },
     "execution_count": 11,
     "metadata": {},
     "output_type": "execute_result"
    }
   ],
   "source": [
    "page_soup.p"
   ]
  },
  {
   "cell_type": "code",
   "execution_count": 12,
   "metadata": {
    "collapsed": false
   },
   "outputs": [
    {
     "data": {
      "text/plain": [
       "<div class=\"skip-to-last-filter-container\"></div>"
      ]
     },
     "execution_count": 12,
     "metadata": {},
     "output_type": "execute_result"
    }
   ],
   "source": [
    "page_soup.div"
   ]
  },
  {
   "cell_type": "code",
   "execution_count": 13,
   "metadata": {
    "collapsed": true
   },
   "outputs": [],
   "source": [
    "#efectivamente esta funcionando y aque cada vez que llamamos a una etiqueta nos da un resultado"
   ]
  },
  {
   "cell_type": "code",
   "execution_count": 14,
   "metadata": {
    "collapsed": false
   },
   "outputs": [],
   "source": [
    "#Ahora convertiremos cada laptop en una linea de un csv file, guardando cada etiqueta div con la clase igual a \"list-item\".\n",
    "#Despues de inspeccionar la web con el inspect de google chrome o el Firebug Lite, me doy cuenta que todo lo que quiero descargar\n",
    "#esta en una etiqueta div donce la clase es igual a \"list-item. Todo lo que esta contenido en ese container contiene toda la \n",
    "#informacion que deseo scrapear: precio, modelo, marca, sku......... \n",
    "#Como tengo varios ordenadores, tendre varios ordenadores tendre varios containers identicos, con lo cual buscare todos los \n",
    "#containers con div y class =\"list-item\" ayudandome de la funcion findAll, una vez encontrados los guardare en una variable que \n",
    "#llamare container. Cada elemento de container es un ordenador."
   ]
  },
  {
   "cell_type": "code",
   "execution_count": 15,
   "metadata": {
    "collapsed": false
   },
   "outputs": [
    {
     "data": {
      "text/plain": [
       "24"
      ]
     },
     "execution_count": 15,
     "metadata": {},
     "output_type": "execute_result"
    }
   ],
   "source": [
    "containers =  page_soup.findAll(\"div\" ,{\"class\":\"list-item\"})\n",
    "len(containers)   #veamos cuantos ordenadores ha encontrado por pagina"
   ]
  },
  {
   "cell_type": "code",
   "execution_count": 10,
   "metadata": {
    "collapsed": false
   },
   "outputs": [
    {
     "data": {
      "text/plain": [
       "<div class=\"list-item\" data-activated-device=\"\" data-attributes='{\"newProduct\":true}' data-availability='{\"pickup\":{\"available\":true,\"availabilityCode\":\"115\",\"checkStoresLink\":{\"url\":\"/site/olstemplatemapper.jsp?id=pcat17006&amp;type=page&amp;sourceType=product&amp;skuId=6097909&amp;pageMode=searchmode\"},\"displayMessage\":\"\\\\u003cb&gt;Store Pickup:\\\\u003c/b&gt;\"},\"ship\":{\"available\":true,\"checkLink\":{\"height\":470,\"target\":\"popup\",\"url\":\"/site/olspage.jsp?id=cat13503&amp;type=page&amp;skuId=6097909\",\"width\":530},\"displayMessage\":\"\\\\u003cb&gt;Shipping:\\\\u003c/b&gt;  Usually ships in 1 business day\",\"getItBy\":{\"currentPrice\":529.99,\"availabilityCode\":\"110\",\"regionalAvailabilityEligible\":true}}}' data-availability-type=\"\" data-average-rating=\"3.4\" data-brand='{\"brand\":\"Dell\"}' data-bundle-items=\"\" data-button-state='{\"purchasable\":true,\"buttonState\":\"ADD_TO_CART\",\"displayText\":\"Add to Cart\",\"skuId\":\"6097909\"}' data-clearance-puck=\"\" data-condition=\"new\" data-functional-map=\"\" data-img-path=\"BestBuy_US/images/products/6097/6097909_sa.jpg\" data-install-dcs-whitelisted=\"\" data-listing-id=\"\" data-name='Dell - Inspiron 15.6\" Touch-Screen Laptop - Intel Core i5 - 8GB Memory - 2TB Hard Drive - Black' data-pickup-available=\"true\" data-price=\"529.99\" data-price-json='{\"currentPrice\":529.99,\"pricingType\":\"regular\",\"smartPricerEnabled\":true,\"priceDomain\":{\"skuId\":\"6097909\",\"regularPrice\":529.99,\"currentPrice\":529.99,\"customerPrice\":529.99,\"totalSavings\":0,\"totalSavingsPercent\":0,\"isMAP\":false,\"offerQualifiers\":[{\"offerId\":\"134664\",\"offerName\":\"Value Computers / Free GWP - S2\",\"offerVersion\":246418,\"id\":134664000}],\"giftSkus\":[{\"skuId\":\"1050005154\",\"quantity\":1,\"offerId\":\"134664\"}],\"currentAsOfDate\":\"2017-11-14T03:11:38 GMT\",\"pricingType\":\"regular\",\"savingsAmount\":0}}' data-pricing-type=\"regular\" data-product-id=\"\" data-product-type=\"hardgood\" data-properties='{\"format\":\"physical\",\"servicePlansType\":\"GSP\",\"servicePlanDetailsURL\":\"/site/geek-squad-protection/computer-tablet-protection/pcmcat1489429207479.c?id=pcmcat148942920747\"}' data-refurbished-puck=\"\" data-review-count=\"41\" data-sale-puck=\"\" data-seller-id=\"\" data-seller-info='{\"seller\":\"BestBuy\"}' data-show-medium-item-price-unactivated=\"\" data-show-notify-me-button=\"\" data-show-puck-product-options=\"true\" data-sku-id=\"6097909\" data-title='Dell - Inspiron 15.6\" Touch-Screen Laptop - Intel Core i5 - 8GB Memory - 2TB Hard Drive - Black' data-url=\"/site/dell-inspiron-15-6-touch-screen-laptop-intel-core-i5-8gb-memory-2tb-hard-drive-black/6097909.p?skuId=6097909\"><div class=\"row\"><div class=\"col-xs-3 list-item-thumbnail-column\"><div class=\"list-item-thumbnail\"><div class=\"thumb\"><a data-rank=\"pdp\" href=\"/site/dell-inspiron-15-6-touch-screen-laptop-intel-core-i5-8gb-memory-2tb-hard-drive-black/6097909.p?skuId=6097909\"><img alt='Dell - Inspiron 15.6\" Touch-Screen Laptop - Intel Core i5 - 8GB Memory - 2TB Hard Drive - Black - Larger Front' class=\"center-block\" src=\"https://pisces.bbystatic.com/image2/BestBuy_US/images/products/6097/6097909_sa.jpg;maxHeight=145;maxWidth=222\" srcset=\"https://pisces.bbystatic.com/image2/BestBuy_US/images/products/6097/6097909_sa.jpg;maxHeight=290;maxWidth=444 2x\"/></a></div></div><div class=\"list-item-compare-container\"><div class=\"list-item-compare checkbox accessible-toggle\"><label for=\"add-to-compare-6097909\"><input autocomplete=\"off\" class=\"list-item-compare-checkbox sr-only\" id=\"add-to-compare-6097909\" type=\"checkbox\"><div aria-hidden=\"true\" class=\"checkbox-brand\"><i class=\"custom-input\"></i></div>Add to Compare</input></label></div></div></div><div class=\"col-xs-6 list-item-postcard-column\"><div class=\"list-item-postcard\"><div class=\"sku-title\" itemprop=\"name\"><h4><a data-rank=\"pdp\" href=\"/site/dell-inspiron-15-6-touch-screen-laptop-intel-core-i5-8gb-memory-2tb-hard-drive-black/6097909.p?skuId=6097909\"><span class=\"new-product\">New!</span> Dell - Inspiron 15.6\" Touch-Screen Laptop - Intel Core i5 - 8GB Memory - 2TB Hard Drive - Black</a></h4></div><div class=\"sku-model\"><ul><li class=\"model-number\"><span class=\"sku-label\">Model:</span> <span class=\"sku-value\" id=\"model-value-6097909\" itemprop=\"model\">I3567-5664BLK-PUS</span></li><li class=\"sku-id\"><span class=\"sku-label\">SKU:</span> <span class=\"sku-value\" id=\"sku-value-6097909\" itemprop=\"productID\">6097909</span></li></ul></div><div class=\"customer-rating\" itemprop=\"aggregateRating\" itemscope=\"\" itemtype=\"http://schema.org/AggregateRating\"><meta content=\"1\" itemprop=\"worstRating\"><meta content=\"5\" itemprop=\"bestRating\"><meta content=\"41\" itemprop=\"reviewCount\"><a aria-label=\"Rating: 3.4 out of 5 Stars with 41 reviews\" href=\"/site/dell-inspiron-15-6-touch-screen-laptop-intel-core-i5-8gb-memory-2tb-hard-drive-black/6097909.p?skuId=6097909#tabbed-customerreviews\"><div class=\"c-ratings-reviews v-small\" data-react-checksum=\"308207796\" data-reactid=\"1\" data-reactroot=\"\"><p class=\"sr-only\" data-reactid=\"2\"></p><span alt=\"68%\" aria-hidden=\"true\" class=\"pl-stars pl-stars-small\" data-reactid=\"3\"><span class=\"unfilled\" data-reactid=\"4\"></span><span class=\"filled\" data-reactid=\"5\" style=\"width:68%;\"></span></span><span class=\"c-reviews\" data-reactid=\"6\"><span aria-hidden=\"true\" class=\"c-review-average\" data-reactid=\"7\">3.4</span><span aria-hidden=\"true\" class=\"c-total-reviews\" data-reactid=\"8\"><!-- react-text: 9 -->(<!-- /react-text --><!-- react-text: 10 -->41<!-- /react-text --><!-- react-text: 11 --><!-- /react-text --><!-- react-text: 12 -->)<!-- /react-text --></span></span></div></a></meta></meta></meta></div><div class=\"availability-status-container lsa-block\" id=\"lsa-0e021750-c8ea-11e7-86f9-032a173828d7\"></div><div class=\"open-box-view\"></div></div></div><div class=\"col-xs-3 list-item-price-column\"><div class=\"list-item-price\"><div class=\"list-item-price-content\"><div class=\"list-item-price-spinner\"></div><div class=\"priceblock-wrapper\"><div data-dux-component=\"priceViewTranslatedDataDux6097909\"><div class=\"price-view-pb\" data-css=\"https://assets.bbystatic.com/price-view/price-view-91e8616bb4f109fe13fe.css\" data-js=\"https://assets.bbystatic.com/price-view/price-view-91e8616bb4f109fe13fe.js\" data-pricing=\"%7B%22pricing%22%3A%7B%22skuId%22%3A%226097909%22%2C%22options%22%3A%7B%22dux%22%3Atrue%2C%22openBox%22%3Atrue%2C%22activatedDux%22%3Atrue%2C%22bundleAndSave%22%3Atrue%2C%22priceMatchGuarantee%22%3Atrue%2C%22promoClassic%22%3Afalse%2C%22promoWhitespaceFix%22%3Afalse%2C%22layout%22%3A%22medium%22%2C%22context%22%3A%22PLP%22%2C%22rzTierCode%22%3A%22%22%7D%2C%22isPriceMatchGuarantee%22%3Atrue%2C%22purchasePrice%22%3A529.99%2C%22giftSkus%22%3A%5B%7B%22skuId%22%3A%221050005154%22%2C%22quantity%22%3A1%7D%5D%2C%22summarySkus%22%3A%5B%221050005154%22%5D%7D%2C%22options%22%3A%7B%22dux%22%3Atrue%2C%22openBox%22%3Atrue%2C%22activatedDux%22%3Atrue%2C%22bundleAndSave%22%3Atrue%2C%22priceMatchGuarantee%22%3Atrue%2C%22promoClassic%22%3Afalse%2C%22promoWhitespaceFix%22%3Afalse%2C%22layout%22%3A%22medium%22%2C%22context%22%3A%22PLP%22%2C%22rzTierCode%22%3A%22%22%7D%7D\" data-sku-id=\"6097909\" data-version=\"17.43.6\"></div></div><div data-dux-component=\"priceViewPriceDux6097909\"><div class=\"price-view-pb\" data-sku-id=\"6097909\" data-version=\"17.43.6\" data-view-type=\"price\"><div class=\"price-view-pb pb-layout-medium\" data-react-checksum=\"-535831943\" data-reactid=\"1\" data-reactroot=\"\"><div class=\"pb pb-price\" data-reactid=\"2\"><div class=\"pb-price-match-guarantee\" data-reactid=\"3\"><div class=\"pb-anchor\" data-reactid=\"4\"><a aria-label=\"Price Match Guarantee\" data-reactid=\"5\" href=\"javascript:void(0)\"><div aria-label=\"Price Match Guarantee\" class=\"icon-price-match-gurantee\" data-reactid=\"6\"></div></a></div></div><div class=\"pb-hero-price pb-purchase-price\" data-reactid=\"7\"><span aria-label=\"Your price for this item is $529.99\" data-reactid=\"8\"><!-- react-text: 9 -->$<!-- /react-text --><!-- react-text: 10 -->529.99<!-- /react-text --></span></div></div></div></div></div><div data-dux-component=\"priceViewFreeItemDux6097909\"><div class=\"price-view-pb\" data-sku-id=\"6097909\" data-version=\"17.43.6\" data-view-type=\"free-item\"><div class=\"price-view-pb pb-layout-medium\" data-react-checksum=\"-571308604\" data-reactid=\"1\" data-reactroot=\"\"><div class=\"pb pb-free-item\" data-reactid=\"2\"><a data-reactid=\"3\" data-track=\"included-free\" href=\"#bonus-content\" role=\"button\"><span class=\"pb-free-item-label\" data-reactid=\"4\">Included Free:</span><!-- react-text: 5 --> <!-- /react-text --><span class=\"pb-free-item-link\" data-reactid=\"6\">1 item</span></a></div></div></div></div><div class=\"item-button-wrapper\"><div class=\"cart-button\" data-button-state-id=\"ADD_TO_CART\" data-purchasable=\"true\" data-service-down=\"false\"><a class=\"btn btn-secondary btn-block btn-sm \" href=\"#\" role=\"button\"><span class=\"ficon-cart\"></span> <span class=\"label-add-to-cart\">Add to Cart</span></a></div><div class=\"cart-service-down-modal-container\"></div></div><div class=\"root-sc-notify-in-stock\"></div></div><div class=\"eco-rebates-wrapper\"></div></div><div class=\"list-item-open-box-hero-price-content\"></div></div></div></div></div>"
      ]
     },
     "execution_count": 10,
     "metadata": {},
     "output_type": "execute_result"
    }
   ],
   "source": [
    "containers[0] #echemos un vistazo al codigo del primer elemento (primer ordenador) del paquete containers"
   ]
  },
  {
   "cell_type": "code",
   "execution_count": 11,
   "metadata": {
    "collapsed": false
   },
   "outputs": [
    {
     "name": "stdout",
     "output_type": "stream",
     "text": [
      "<div class=\"list-item\" data-activated-device=\"\" data-attributes='{\"newProduct\":true}' data-availability='{\"pickup\":{\"available\":true,\"availabilityCode\":\"115\",\"checkStoresLink\":{\"url\":\"/site/olstemplatemapper.jsp?id=pcat17006&amp;type=page&amp;sourceType=product&amp;skuId=6097909&amp;pageMode=searchmode\"},\"displayMessage\":\"\\u003cb&gt;Store Pickup:\\u003c/b&gt;\"},\"ship\":{\"available\":true,\"checkLink\":{\"height\":470,\"target\":\"popup\",\"url\":\"/site/olspage.jsp?id=cat13503&amp;type=page&amp;skuId=6097909\",\"width\":530},\"displayMessage\":\"\\u003cb&gt;Shipping:\\u003c/b&gt;  Usually ships in 1 business day\",\"getItBy\":{\"currentPrice\":529.99,\"availabilityCode\":\"110\",\"regionalAvailabilityEligible\":true}}}' data-availability-type=\"\" data-average-rating=\"3.4\" data-brand='{\"brand\":\"Dell\"}' data-bundle-items=\"\" data-button-state='{\"purchasable\":true,\"buttonState\":\"ADD_TO_CART\",\"displayText\":\"Add to Cart\",\"skuId\":\"6097909\"}' data-clearance-puck=\"\" data-condition=\"new\" data-functional-map=\"\" data-img-path=\"BestBuy_US/images/products/6097/6097909_sa.jpg\" data-install-dcs-whitelisted=\"\" data-listing-id=\"\" data-name='Dell - Inspiron 15.6\" Touch-Screen Laptop - Intel Core i5 - 8GB Memory - 2TB Hard Drive - Black' data-pickup-available=\"true\" data-price=\"529.99\" data-price-json='{\"currentPrice\":529.99,\"pricingType\":\"regular\",\"smartPricerEnabled\":true,\"priceDomain\":{\"skuId\":\"6097909\",\"regularPrice\":529.99,\"currentPrice\":529.99,\"customerPrice\":529.99,\"totalSavings\":0,\"totalSavingsPercent\":0,\"isMAP\":false,\"offerQualifiers\":[{\"offerId\":\"134664\",\"offerName\":\"Value Computers / Free GWP - S2\",\"offerVersion\":246418,\"id\":134664000}],\"giftSkus\":[{\"skuId\":\"1050005154\",\"quantity\":1,\"offerId\":\"134664\"}],\"currentAsOfDate\":\"2017-11-14T03:11:38 GMT\",\"pricingType\":\"regular\",\"savingsAmount\":0}}' data-pricing-type=\"regular\" data-product-id=\"\" data-product-type=\"hardgood\" data-properties='{\"format\":\"physical\",\"servicePlansType\":\"GSP\",\"servicePlanDetailsURL\":\"/site/geek-squad-protection/computer-tablet-protection/pcmcat1489429207479.c?id=pcmcat148942920747\"}' data-refurbished-puck=\"\" data-review-count=\"41\" data-sale-puck=\"\" data-seller-id=\"\" data-seller-info='{\"seller\":\"BestBuy\"}' data-show-medium-item-price-unactivated=\"\" data-show-notify-me-button=\"\" data-show-puck-product-options=\"true\" data-sku-id=\"6097909\" data-title='Dell - Inspiron 15.6\" Touch-Screen Laptop - Intel Core i5 - 8GB Memory - 2TB Hard Drive - Black' data-url=\"/site/dell-inspiron-15-6-touch-screen-laptop-intel-core-i5-8gb-memory-2tb-hard-drive-black/6097909.p?skuId=6097909\">\n",
      " <div class=\"row\">\n",
      "  <div class=\"col-xs-3 list-item-thumbnail-column\">\n",
      "   <div class=\"list-item-thumbnail\">\n",
      "    <div class=\"thumb\">\n",
      "     <a data-rank=\"pdp\" href=\"/site/dell-inspiron-15-6-touch-screen-laptop-intel-core-i5-8gb-memory-2tb-hard-drive-black/6097909.p?skuId=6097909\">\n",
      "      <img alt='Dell - Inspiron 15.6\" Touch-Screen Laptop - Intel Core i5 - 8GB Memory - 2TB Hard Drive - Black - Larger Front' class=\"center-block\" src=\"https://pisces.bbystatic.com/image2/BestBuy_US/images/products/6097/6097909_sa.jpg;maxHeight=145;maxWidth=222\" srcset=\"https://pisces.bbystatic.com/image2/BestBuy_US/images/products/6097/6097909_sa.jpg;maxHeight=290;maxWidth=444 2x\"/>\n",
      "     </a>\n",
      "    </div>\n",
      "   </div>\n",
      "   <div class=\"list-item-compare-container\">\n",
      "    <div class=\"list-item-compare checkbox accessible-toggle\">\n",
      "     <label for=\"add-to-compare-6097909\">\n",
      "      <input autocomplete=\"off\" class=\"list-item-compare-checkbox sr-only\" id=\"add-to-compare-6097909\" type=\"checkbox\">\n",
      "       <div aria-hidden=\"true\" class=\"checkbox-brand\">\n",
      "        <i class=\"custom-input\">\n",
      "        </i>\n",
      "       </div>\n",
      "       Add to Compare\n",
      "      </input>\n",
      "     </label>\n",
      "    </div>\n",
      "   </div>\n",
      "  </div>\n",
      "  <div class=\"col-xs-6 list-item-postcard-column\">\n",
      "   <div class=\"list-item-postcard\">\n",
      "    <div class=\"sku-title\" itemprop=\"name\">\n",
      "     <h4>\n",
      "      <a data-rank=\"pdp\" href=\"/site/dell-inspiron-15-6-touch-screen-laptop-intel-core-i5-8gb-memory-2tb-hard-drive-black/6097909.p?skuId=6097909\">\n",
      "       <span class=\"new-product\">\n",
      "        New!\n",
      "       </span>\n",
      "       Dell - Inspiron 15.6\" Touch-Screen Laptop - Intel Core i5 - 8GB Memory - 2TB Hard Drive - Black\n",
      "      </a>\n",
      "     </h4>\n",
      "    </div>\n",
      "    <div class=\"sku-model\">\n",
      "     <ul>\n",
      "      <li class=\"model-number\">\n",
      "       <span class=\"sku-label\">\n",
      "        Model:\n",
      "       </span>\n",
      "       <span class=\"sku-value\" id=\"model-value-6097909\" itemprop=\"model\">\n",
      "        I3567-5664BLK-PUS\n",
      "       </span>\n",
      "      </li>\n",
      "      <li class=\"sku-id\">\n",
      "       <span class=\"sku-label\">\n",
      "        SKU:\n",
      "       </span>\n",
      "       <span class=\"sku-value\" id=\"sku-value-6097909\" itemprop=\"productID\">\n",
      "        6097909\n",
      "       </span>\n",
      "      </li>\n",
      "     </ul>\n",
      "    </div>\n",
      "    <div class=\"customer-rating\" itemprop=\"aggregateRating\" itemscope=\"\" itemtype=\"http://schema.org/AggregateRating\">\n",
      "     <meta content=\"1\" itemprop=\"worstRating\">\n",
      "      <meta content=\"5\" itemprop=\"bestRating\">\n",
      "       <meta content=\"41\" itemprop=\"reviewCount\">\n",
      "        <a aria-label=\"Rating: 3.4 out of 5 Stars with 41 reviews\" href=\"/site/dell-inspiron-15-6-touch-screen-laptop-intel-core-i5-8gb-memory-2tb-hard-drive-black/6097909.p?skuId=6097909#tabbed-customerreviews\">\n",
      "         <div class=\"c-ratings-reviews v-small\" data-react-checksum=\"308207796\" data-reactid=\"1\" data-reactroot=\"\">\n",
      "          <p class=\"sr-only\" data-reactid=\"2\">\n",
      "          </p>\n",
      "          <span alt=\"68%\" aria-hidden=\"true\" class=\"pl-stars pl-stars-small\" data-reactid=\"3\">\n",
      "           <span class=\"unfilled\" data-reactid=\"4\">\n",
      "           </span>\n",
      "           <span class=\"filled\" data-reactid=\"5\" style=\"width:68%;\">\n",
      "           </span>\n",
      "          </span>\n",
      "          <span class=\"c-reviews\" data-reactid=\"6\">\n",
      "           <span aria-hidden=\"true\" class=\"c-review-average\" data-reactid=\"7\">\n",
      "            3.4\n",
      "           </span>\n",
      "           <span aria-hidden=\"true\" class=\"c-total-reviews\" data-reactid=\"8\">\n",
      "            <!-- react-text: 9 -->\n",
      "            (\n",
      "            <!-- /react-text -->\n",
      "            <!-- react-text: 10 -->\n",
      "            41\n",
      "            <!-- /react-text -->\n",
      "            <!-- react-text: 11 -->\n",
      "            <!-- /react-text -->\n",
      "            <!-- react-text: 12 -->\n",
      "            )\n",
      "            <!-- /react-text -->\n",
      "           </span>\n",
      "          </span>\n",
      "         </div>\n",
      "        </a>\n",
      "       </meta>\n",
      "      </meta>\n",
      "     </meta>\n",
      "    </div>\n",
      "    <div class=\"availability-status-container lsa-block\" id=\"lsa-0e021750-c8ea-11e7-86f9-032a173828d7\">\n",
      "    </div>\n",
      "    <div class=\"open-box-view\">\n",
      "    </div>\n",
      "   </div>\n",
      "  </div>\n",
      "  <div class=\"col-xs-3 list-item-price-column\">\n",
      "   <div class=\"list-item-price\">\n",
      "    <div class=\"list-item-price-content\">\n",
      "     <div class=\"list-item-price-spinner\">\n",
      "     </div>\n",
      "     <div class=\"priceblock-wrapper\">\n",
      "      <div data-dux-component=\"priceViewTranslatedDataDux6097909\">\n",
      "       <div class=\"price-view-pb\" data-css=\"https://assets.bbystatic.com/price-view/price-view-91e8616bb4f109fe13fe.css\" data-js=\"https://assets.bbystatic.com/price-view/price-view-91e8616bb4f109fe13fe.js\" data-pricing=\"%7B%22pricing%22%3A%7B%22skuId%22%3A%226097909%22%2C%22options%22%3A%7B%22dux%22%3Atrue%2C%22openBox%22%3Atrue%2C%22activatedDux%22%3Atrue%2C%22bundleAndSave%22%3Atrue%2C%22priceMatchGuarantee%22%3Atrue%2C%22promoClassic%22%3Afalse%2C%22promoWhitespaceFix%22%3Afalse%2C%22layout%22%3A%22medium%22%2C%22context%22%3A%22PLP%22%2C%22rzTierCode%22%3A%22%22%7D%2C%22isPriceMatchGuarantee%22%3Atrue%2C%22purchasePrice%22%3A529.99%2C%22giftSkus%22%3A%5B%7B%22skuId%22%3A%221050005154%22%2C%22quantity%22%3A1%7D%5D%2C%22summarySkus%22%3A%5B%221050005154%22%5D%7D%2C%22options%22%3A%7B%22dux%22%3Atrue%2C%22openBox%22%3Atrue%2C%22activatedDux%22%3Atrue%2C%22bundleAndSave%22%3Atrue%2C%22priceMatchGuarantee%22%3Atrue%2C%22promoClassic%22%3Afalse%2C%22promoWhitespaceFix%22%3Afalse%2C%22layout%22%3A%22medium%22%2C%22context%22%3A%22PLP%22%2C%22rzTierCode%22%3A%22%22%7D%7D\" data-sku-id=\"6097909\" data-version=\"17.43.6\">\n",
      "       </div>\n",
      "      </div>\n",
      "      <div data-dux-component=\"priceViewPriceDux6097909\">\n",
      "       <div class=\"price-view-pb\" data-sku-id=\"6097909\" data-version=\"17.43.6\" data-view-type=\"price\">\n",
      "        <div class=\"price-view-pb pb-layout-medium\" data-react-checksum=\"-535831943\" data-reactid=\"1\" data-reactroot=\"\">\n",
      "         <div class=\"pb pb-price\" data-reactid=\"2\">\n",
      "          <div class=\"pb-price-match-guarantee\" data-reactid=\"3\">\n",
      "           <div class=\"pb-anchor\" data-reactid=\"4\">\n",
      "            <a aria-label=\"Price Match Guarantee\" data-reactid=\"5\" href=\"javascript:void(0)\">\n",
      "             <div aria-label=\"Price Match Guarantee\" class=\"icon-price-match-gurantee\" data-reactid=\"6\">\n",
      "             </div>\n",
      "            </a>\n",
      "           </div>\n",
      "          </div>\n",
      "          <div class=\"pb-hero-price pb-purchase-price\" data-reactid=\"7\">\n",
      "           <span aria-label=\"Your price for this item is $529.99\" data-reactid=\"8\">\n",
      "            <!-- react-text: 9 -->\n",
      "            $\n",
      "            <!-- /react-text -->\n",
      "            <!-- react-text: 10 -->\n",
      "            529.99\n",
      "            <!-- /react-text -->\n",
      "           </span>\n",
      "          </div>\n",
      "         </div>\n",
      "        </div>\n",
      "       </div>\n",
      "      </div>\n",
      "      <div data-dux-component=\"priceViewFreeItemDux6097909\">\n",
      "       <div class=\"price-view-pb\" data-sku-id=\"6097909\" data-version=\"17.43.6\" data-view-type=\"free-item\">\n",
      "        <div class=\"price-view-pb pb-layout-medium\" data-react-checksum=\"-571308604\" data-reactid=\"1\" data-reactroot=\"\">\n",
      "         <div class=\"pb pb-free-item\" data-reactid=\"2\">\n",
      "          <a data-reactid=\"3\" data-track=\"included-free\" href=\"#bonus-content\" role=\"button\">\n",
      "           <span class=\"pb-free-item-label\" data-reactid=\"4\">\n",
      "            Included Free:\n",
      "           </span>\n",
      "           <!-- react-text: 5 -->\n",
      "           <!-- /react-text -->\n",
      "           <span class=\"pb-free-item-link\" data-reactid=\"6\">\n",
      "            1 item\n",
      "           </span>\n",
      "          </a>\n",
      "         </div>\n",
      "        </div>\n",
      "       </div>\n",
      "      </div>\n",
      "      <div class=\"item-button-wrapper\">\n",
      "       <div class=\"cart-button\" data-button-state-id=\"ADD_TO_CART\" data-purchasable=\"true\" data-service-down=\"false\">\n",
      "        <a class=\"btn btn-secondary btn-block btn-sm \" href=\"#\" role=\"button\">\n",
      "         <span class=\"ficon-cart\">\n",
      "         </span>\n",
      "         <span class=\"label-add-to-cart\">\n",
      "          Add to Cart\n",
      "         </span>\n",
      "        </a>\n",
      "       </div>\n",
      "       <div class=\"cart-service-down-modal-container\">\n",
      "       </div>\n",
      "      </div>\n",
      "      <div class=\"root-sc-notify-in-stock\">\n",
      "      </div>\n",
      "     </div>\n",
      "     <div class=\"eco-rebates-wrapper\">\n",
      "     </div>\n",
      "    </div>\n",
      "    <div class=\"list-item-open-box-hero-price-content\">\n",
      "    </div>\n",
      "   </div>\n",
      "  </div>\n",
      " </div>\n",
      "</div>\n",
      "\n"
     ]
    }
   ],
   "source": [
    "print containers[0].prettify() #con prettyfy le damos un poco mas de estilo, para identificar mas facilmente aquello que quiero\n",
    "#extraer"
   ]
  },
  {
   "cell_type": "code",
   "execution_count": 14,
   "metadata": {
    "collapsed": true
   },
   "outputs": [],
   "source": [
    "#Para darle un poco mas de visibilidad al container[0] de arriba he usado una de las herramientas online para ver la estructura\n",
    "#del codigo html anterior con cierto orden: https://www.danstools.com/javascript-beautify/\n",
    "\n",
    "#La expresion de mas abajo es el container que incluye toda la informacion que queremos extraer de cada ordenador, este ejemplo \n",
    "#es para el 'Dell - Inspiron 15.6\" Touch-Screen Laptop - Intel Core i5 - 8GB Memory - 2TB Hard Drive - Black', su estructura nos \n",
    "#dara la base para poder generalizar a traves de loops y poder extraer informacion de cualquier laptop en el web que queramos\n",
    "#scrapear."
   ]
  },
  {
   "cell_type": "code",
   "execution_count": null,
   "metadata": {
    "collapsed": true
   },
   "outputs": [],
   "source": [
    "<div class=\"list-item\" data-activated-device=\"\" data-attributes='{\"newProduct\":true}' data-availability='{\"pickup\":{\"available\":true,\"availabilityCode\":\"115\",\"checkStoresLink\":{\"url\":\"/site/olstemplatemapper.jsp?id=pcat17006&amp;type=page&amp;sourceType=product&amp;skuId=6097909&amp;pageMode=searchmode\"},\"displayMessage\":\"\\\\u003cb&gt;Store Pickup:\\\\u003c/b&gt;\"},\"ship\":{\"available\":true,\"checkLink\":{\"height\":470,\"target\":\"popup\",\"url\":\"/site/olspage.jsp?id=cat13503&amp;type=page&amp;skuId=6097909\",\"width\":530},\"displayMessage\":\"\\\\u003cb&gt;Shipping:\\\\u003c/b&gt;  Usually ships in 1 business day\",\"getItBy\":{\"currentPrice\":359.99,\"availabilityCode\":\"110\",\"regionalAvailabilityEligible\":true}}}' data-availability-type=\"\" data-average-rating=\"3.1\" data-brand='{\"brand\":\"Dell\"}' data-bundle-items=\"\" data-button-state='{\"purchasable\":true,\"buttonState\":\"ADD_TO_CART\",\"displayText\":\"Add to Cart\",\"skuId\":\"6097909\"}' data-clearance-puck=\"\" data-condition=\"new\" data-functional-map=\"\" data-img-path=\"BestBuy_US/images/products/6097/6097909_sa.jpg\" data-install-dcs-whitelisted=\"\" data-listing-id=\"\" data-name='Dell - Inspiron 15.6\" Touch-Screen Laptop - Intel Core i5 - 8GB Memory - 2TB Hard Drive - Black' data-pickup-available=\"true\" data-price=\"359.99\" data-price-json='{\"currentPrice\":359.99,\"pricingType\":\"onSale\",\"regularPrice\":529.99,\"savingsAmount\":170,\"smartPricerEnabled\":true,\"priceDomain\":{\"skuId\":\"6097909\",\"saleEventMessageType\":\"ONSALE\",\"regularPriceMessageType\":\"WAS\",\"regularPrice\":529.99,\"currentPrice\":359.99,\"customerPrice\":359.99,\"instantSavings\":170,\"totalSavings\":170,\"totalSavingsPercent\":32,\"isMAP\":false,\"offerQualifiers\":[{\"offerId\":\"134664\",\"offerName\":\"Value Computers / Free GWP - S2\",\"offerVersion\":246418,\"id\":134664000}],\"giftSkus\":[{\"skuId\":\"1050005154\",\"quantity\":1,\"offerId\":\"134664\"}],\"currentAsOfDate\":\"2017-11-11T19:16:14 GMT\",\"pricingType\":\"onSale\",\"savingsAmount\":170,\"regularPriceMessageLabel\":\"Was $529.99\"}}' data-pricing-type=\"onSale\" data-product-id=\"\" data-product-type=\"hardgood\" data-properties='{\"format\":\"physical\",\"servicePlansType\":\"GSP\",\"servicePlanDetailsURL\":\"/site/geek-squad-protection/computer-tablet-protection/pcmcat1489429207479.c?id=pcmcat148942920747\"}' data-refurbished-puck=\"\" data-review-count=\"25\" data-sale-puck=\"\" data-seller-id=\"\" data-seller-info='{\"seller\":\"BestBuy\"}' data-show-medium-item-price-unactivated=\"\" data-show-notify-me-button=\"\" data-show-puck-product-options=\"true\" data-sku-id=\"6097909\" data-title='Dell - Inspiron 15.6\" Touch-Screen Laptop - Intel Core i5 - 8GB Memory - 2TB Hard Drive - Black' data-url=\"/site/dell-inspiron-15-6-touch-screen-laptop-intel-core-i5-8gb-memory-2tb-hard-drive-black/6097909.p?skuId=6097909\">\n",
    "    <div class=\"row\">\n",
    "        <div class=\"col-xs-3 list-item-thumbnail-column\">\n",
    "            <div class=\"list-item-badge\">\n",
    "                <div data-react-checksum=\"178812892\" data-reactid=\"1\" data-reactroot=\"\" style=\"height:20px;overflow:hidden;position:relative;width:160px;\"><img alt=\"Black Friday Ad Deal\" data-reactid=\"2\" src=\"https://pisces.bbystatic.com//image2/BestBuy_US/store/ee/2017/global/general/GL-17248-badge-adleak-171108.png\" style=\"position:absolute;top:50%;left:50%;transform:translate(-50%, -50%);\" />\n",
    "                </div>\n",
    "            </div>\n",
    "            <div class=\"list-item-thumbnail\">\n",
    "                <div class=\"thumb\">\n",
    "                    <a data-rank=\"pdp\" href=\"/site/dell-inspiron-15-6-touch-screen-laptop-intel-core-i5-8gb-memory-2tb-hard-drive-black/6097909.p?skuId=6097909\"><img alt='Dell - Inspiron 15.6\" Touch-Screen Laptop - Intel Core i5 - 8GB Memory - 2TB Hard Drive - Black - Larger Front' class=\"center-block\" src=\"https://pisces.bbystatic.com/image2/BestBuy_US/images/products/6097/6097909_sa.jpg;maxHeight=145;maxWidth=222\" srcset=\"https://pisces.bbystatic.com/image2/BestBuy_US/images/products/6097/6097909_sa.jpg;maxHeight=290;maxWidth=444 2x\" />\n",
    "                    </a>\n",
    "                </div>\n",
    "            </div>\n",
    "            <div class=\"list-item-compare-container\">\n",
    "                <div class=\"list-item-compare checkbox accessible-toggle\">\n",
    "                    <label for=\"add-to-compare-6097909\">\n",
    "                        <input autocomplete=\"off\" class=\"list-item-compare-checkbox sr-only\" id=\"add-to-compare-6097909\" type=\"checkbox\">\n",
    "                        <div aria-hidden=\"true\" class=\"checkbox-brand\"><i class=\"custom-input\"></i>\n",
    "                        </div>Add to Compare</input>\n",
    "                    </label>\n",
    "                </div>\n",
    "            </div>\n",
    "        </div>\n",
    "        <div class=\"col-xs-6 list-item-postcard-column\">\n",
    "            <div class=\"list-item-postcard\">\n",
    "                <div class=\"sku-title\" itemprop=\"name\">\n",
    "                    <h4><a data-rank=\"pdp\" href=\"/site/dell-inspiron-15-6-touch-screen-laptop-intel-core-i5-8gb-memory-2tb-hard-drive-black/6097909.p?skuId=6097909\"><span class=\"new-product\">New!</span> Dell - Inspiron 15.6\" Touch-Screen Laptop - Intel Core i5 - 8GB Memory - 2TB Hard Drive - Black</a></h4>\n",
    "                </div>\n",
    "                <div class=\"sku-model\">\n",
    "                    <ul>\n",
    "                        <li class=\"model-number\"><span class=\"sku-label\">Model:</span> <span class=\"sku-value\" id=\"model-value-6097909\" itemprop=\"model\">I3567-5664BLK-PUS</span>\n",
    "                        </li>\n",
    "                        <li class=\"sku-id\"><span class=\"sku-label\">SKU:</span> <span class=\"sku-value\" id=\"sku-value-6097909\" itemprop=\"productID\">6097909</span>\n",
    "                        </li>\n",
    "                    </ul>\n",
    "                </div>\n",
    "                <div class=\"customer-rating\" itemprop=\"aggregateRating\" itemscope=\"\" itemtype=\"http://schema.org/AggregateRating\">\n",
    "                    <meta content=\"1\" itemprop=\"worstRating\">\n",
    "                    <meta content=\"5\" itemprop=\"bestRating\">\n",
    "                    <meta content=\"25\" itemprop=\"reviewCount\">\n",
    "                    <a aria-label=\"Rating: 3.1 out of 5 Stars with 25 reviews\" href=\"/site/dell-inspiron-15-6-touch-screen-laptop-intel-core-i5-8gb-memory-2tb-hard-drive-black/6097909.p?skuId=6097909#tabbed-customerreviews\">\n",
    "                        <div class=\"c-ratings-reviews v-small\" data-react-checksum=\"-103358297\" data-reactid=\"1\" data-reactroot=\"\">\n",
    "                            <p class=\"sr-only\" data-reactid=\"2\"></p><span alt=\"62%\" aria-hidden=\"true\" class=\"pl-stars pl-stars-small\" data-reactid=\"3\"><span class=\"unfilled\" data-reactid=\"4\"></span><span class=\"filled\" data-reactid=\"5\" style=\"width:62%;\"></span></span><span class=\"c-reviews\" data-reactid=\"6\"><span aria-hidden=\"true\" class=\"c-review-average\" data-reactid=\"7\">3.1</span><span aria-hidden=\"true\" class=\"c-total-reviews\" data-reactid=\"8\"><!-- react-text: 9 -->(<!-- /react-text --><!-- react-text: 10 -->25<!-- /react-text --><!-- react-text: 11 --><!-- /react-text --><!-- react-text: 12 -->)<!-- /react-text --></span></span>\n",
    "                        </div>\n",
    "                    </a>\n",
    "                    </meta>\n",
    "                    </meta>\n",
    "                    </meta>\n",
    "                </div>\n",
    "                <div class=\"availability-status-container lsa-block\" id=\"lsa-174f67d0-c715-11e7-8a04-b7f5f9e7717d\"></div>\n",
    "                <div class=\"open-box-view\"></div>\n",
    "            </div>\n",
    "        </div>\n",
    "        <div class=\"col-xs-3 list-item-price-column\">\n",
    "            <div class=\"list-item-price\">\n",
    "                <div class=\"list-item-price-content\">\n",
    "                    <div class=\"list-item-price-spinner\"></div>\n",
    "                    <div class=\"priceblock-wrapper\">\n",
    "                        <div data-dux-component=\"priceViewTranslatedDataDux6097909\">\n",
    "                            <div class=\"price-view-pb\" data-css=\"https://assets.bbystatic.com/price-view/price-view-91e8616bb4f109fe13fe.css\" data-js=\"https://assets.bbystatic.com/price-view/price-view-91e8616bb4f109fe13fe.js\" data-pricing=\"%7B%22pricing%22%3A%7B%22skuId%22%3A%226097909%22%2C%22options%22%3A%7B%22dux%22%3Atrue%2C%22openBox%22%3Atrue%2C%22activatedDux%22%3Atrue%2C%22bundleAndSave%22%3Atrue%2C%22priceMatchGuarantee%22%3Atrue%2C%22promoClassic%22%3Afalse%2C%22promoWhitespaceFix%22%3Afalse%2C%22layout%22%3A%22medium%22%2C%22context%22%3A%22PLP%22%2C%22rzTierCode%22%3A%22%22%7D%2C%22savings%22%3A%7B%22total%22%3A170%7D%2C%22regularPrice%22%3A%7B%22abbreviated%22%3A%22Was%20%24529.99%22%2C%22descriptive%22%3A%22The%20price%20was%20%24529.99%22%7D%2C%22isPriceMatchGuarantee%22%3Atrue%2C%22saleMessage%22%3A%22On%20Sale%22%2C%22purchasePrice%22%3A359.99%2C%22giftSkus%22%3A%5B%7B%22skuId%22%3A%221050005154%22%2C%22quantity%22%3A1%7D%5D%2C%22summarySkus%22%3A%5B%221050005154%22%5D%7D%2C%22options%22%3A%7B%22dux%22%3Atrue%2C%22openBox%22%3Atrue%2C%22activatedDux%22%3Atrue%2C%22bundleAndSave%22%3Atrue%2C%22priceMatchGuarantee%22%3Atrue%2C%22promoClassic%22%3Afalse%2C%22promoWhitespaceFix%22%3Afalse%2C%22layout%22%3A%22medium%22%2C%22context%22%3A%22PLP%22%2C%22rzTierCode%22%3A%22%22%7D%7D\" data-sku-id=\"6097909\" data-version=\"17.43.6\"></div>\n",
    "                        </div>\n",
    "                        <div data-dux-component=\"priceViewPriceDux6097909\">\n",
    "                            <div class=\"price-view-pb\" data-sku-id=\"6097909\" data-version=\"17.43.6\" data-view-type=\"price\">\n",
    "                                <div class=\"price-view-pb pb-layout-medium\" data-react-checksum=\"1753433303\" data-reactid=\"1\" data-reactroot=\"\">\n",
    "                                    <div class=\"pb pb-price\" data-reactid=\"2\">\n",
    "                                        <div class=\"pb-price-match-guarantee\" data-reactid=\"3\">\n",
    "                                            <div class=\"pb-anchor\" data-reactid=\"4\">\n",
    "                                                <a aria-label=\"Price Match Guarantee\" data-reactid=\"5\" href=\"javascript:void(0)\">\n",
    "                                                    <div aria-label=\"Price Match Guarantee\" class=\"icon-price-match-gurantee\" data-reactid=\"6\"></div>\n",
    "                                                </a>\n",
    "                                            </div>\n",
    "                                        </div>\n",
    "                                        <div class=\"pb-hero-price pb-purchase-price\" data-reactid=\"7\"><span aria-label=\"Your price for this item is $359.99\" data-reactid=\"8\"><!-- react-text: 9 -->$<!-- /react-text --><!-- react-text: 10 -->359.99<!-- /react-text --></span>\n",
    "                                        </div>\n",
    "                                        <div class=\"pb-sale-message\" data-reactid=\"11\">On Sale</div>\n",
    "                                        <div class=\"pb-savings\" data-reactid=\"12\">\n",
    "                                            <!-- react-text: 13 -->Save $170\n",
    "                                            <!-- /react-text -->\n",
    "                                            <!-- react-text: 14 -->\n",
    "                                            <!-- /react-text -->\n",
    "                                            <!-- react-text: 15 -->\n",
    "                                            <!-- /react-text -->\n",
    "                                        </div>\n",
    "                                        <div aria-label=\"The price was $529.99\" class=\"pb-regular-price\" data-reactid=\"16\">Was $529.99</div>\n",
    "                                    </div>\n",
    "                                </div>\n",
    "                            </div>\n",
    "                        </div>\n",
    "                        <div data-dux-component=\"priceViewFreeItemDux6097909\">\n",
    "                            <div class=\"price-view-pb\" data-sku-id=\"6097909\" data-version=\"17.43.6\" data-view-type=\"free-item\">\n",
    "                                <div class=\"price-view-pb pb-layout-medium\" data-react-checksum=\"-571308604\" data-reactid=\"1\" data-reactroot=\"\">\n",
    "                                    <div class=\"pb pb-free-item\" data-reactid=\"2\"><a data-reactid=\"3\" data-track=\"included-free\" href=\"#bonus-content\" role=\"button\"><span class=\"pb-free-item-label\" data-reactid=\"4\">Included Free:</span><!-- react-text: 5 --> <!-- /react-text --><span class=\"pb-free-item-link\" data-reactid=\"6\">1 item</span></a>\n",
    "                                    </div>\n",
    "                                </div>\n",
    "                            </div>\n",
    "                        </div>\n",
    "                        <div class=\"item-button-wrapper\">\n",
    "                            <div class=\"cart-button\" data-button-state-id=\"ADD_TO_CART\" data-purchasable=\"true\" data-service-down=\"false\"><a class=\"btn btn-secondary btn-block btn-sm \" href=\"#\" role=\"button\"><span class=\"ficon-cart\"></span> <span class=\"label-add-to-cart\">Add to Cart</span></a>\n",
    "                            </div>\n",
    "                            <div class=\"cart-service-down-modal-container\"></div>\n",
    "                        </div>\n",
    "                        <div class=\"root-sc-notify-in-stock\"></div>\n",
    "                    </div>\n",
    "                    <div class=\"eco-rebates-wrapper\"></div>\n",
    "                </div>\n",
    "                <div class=\"list-item-open-box-hero-price-content\"></div>\n",
    "            </div>\n",
    "        </div>\n",
    "    </div>\n",
    "</div>"
   ]
  },
  {
   "cell_type": "code",
   "execution_count": 15,
   "metadata": {
    "collapsed": true
   },
   "outputs": [],
   "source": [
    "#ahora, con la idea de preparar un bucle, meto el resultado del primer laptop en una variable llamada container.\n",
    "container = containers[0]"
   ]
  },
  {
   "cell_type": "code",
   "execution_count": 16,
   "metadata": {
    "collapsed": false
   },
   "outputs": [
    {
     "data": {
      "text/plain": [
       "<h4><a data-rank=\"pdp\" href=\"/site/dell-inspiron-15-6-touch-screen-laptop-intel-core-i5-8gb-memory-2tb-hard-drive-black/6097909.p?skuId=6097909\"><span class=\"new-product\">New!</span> Dell - Inspiron 15.6\" Touch-Screen Laptop - Intel Core i5 - 8GB Memory - 2TB Hard Drive - Black</a></h4>"
      ]
     },
     "execution_count": 16,
     "metadata": {},
     "output_type": "execute_result"
    }
   ],
   "source": [
    "#dandole distintos valores de etiqueta a container me dara aceso a distintas partes del codigo, por ejemplo h4 y label, voy \n",
    "#recorriendo el bloque del ordenador y observando donde esta lo que quiero descargar\n",
    "container.h4"
   ]
  },
  {
   "cell_type": "code",
   "execution_count": 17,
   "metadata": {
    "collapsed": false
   },
   "outputs": [
    {
     "data": {
      "text/plain": [
       "<label for=\"add-to-compare-6097909\"><input autocomplete=\"off\" class=\"list-item-compare-checkbox sr-only\" id=\"add-to-compare-6097909\" type=\"checkbox\"><div aria-hidden=\"true\" class=\"checkbox-brand\"><i class=\"custom-input\"></i></div>Add to Compare</input></label>"
      ]
     },
     "execution_count": 17,
     "metadata": {},
     "output_type": "execute_result"
    }
   ],
   "source": [
    "container.label"
   ]
  },
  {
   "cell_type": "code",
   "execution_count": 18,
   "metadata": {
    "collapsed": true
   },
   "outputs": [],
   "source": [
    "#estoy interesado en obtener la valoracion de cada ordenador, su marca, una imagen, sus especificaciones y el precio, \n",
    "#veamoslo mas abajo"
   ]
  },
  {
   "cell_type": "code",
   "execution_count": 19,
   "metadata": {
    "collapsed": false
   },
   "outputs": [
    {
     "data": {
      "text/plain": [
       "u'3.4'"
      ]
     },
     "execution_count": 19,
     "metadata": {},
     "output_type": "execute_result"
    }
   ],
   "source": [
    "rating = container[\"data-average-rating\"]\n",
    "rating"
   ]
  },
  {
   "cell_type": "code",
   "execution_count": 20,
   "metadata": {
    "collapsed": false
   },
   "outputs": [
    {
     "data": {
      "text/plain": [
       "u'{\"brand\":\"Dell\"}'"
      ]
     },
     "execution_count": 20,
     "metadata": {},
     "output_type": "execute_result"
    }
   ],
   "source": [
    "brand = container[\"data-brand\"]\n",
    "brand"
   ]
  },
  {
   "cell_type": "code",
   "execution_count": 21,
   "metadata": {
    "collapsed": false
   },
   "outputs": [
    {
     "data": {
      "text/plain": [
       "u'BestBuy_US/images/products/6097/6097909_sa.jpg'"
      ]
     },
     "execution_count": 21,
     "metadata": {},
     "output_type": "execute_result"
    }
   ],
   "source": [
    "image = container[\"data-img-path\"]\n",
    "image"
   ]
  },
  {
   "cell_type": "code",
   "execution_count": 22,
   "metadata": {
    "collapsed": false
   },
   "outputs": [
    {
     "data": {
      "text/plain": [
       "u'Dell - Inspiron 15.6\" Touch-Screen Laptop - Intel Core i5 - 8GB Memory - 2TB Hard Drive - Black'"
      ]
     },
     "execution_count": 22,
     "metadata": {},
     "output_type": "execute_result"
    }
   ],
   "source": [
    "specs = container[\"data-name\"]\n",
    "specs "
   ]
  },
  {
   "cell_type": "code",
   "execution_count": 23,
   "metadata": {
    "collapsed": false
   },
   "outputs": [
    {
     "data": {
      "text/plain": [
       "u'529.99'"
      ]
     },
     "execution_count": 23,
     "metadata": {},
     "output_type": "execute_result"
    }
   ],
   "source": [
    "price = container[\"data-price\"]\n",
    "price"
   ]
  },
  {
   "cell_type": "code",
   "execution_count": 30,
   "metadata": {
    "collapsed": false,
    "scrolled": true
   },
   "outputs": [
    {
     "name": "stdout",
     "output_type": "stream",
     "text": [
      "la marca es {\"brand\":\"Dell\"}: \n",
      "la valoracion es 3.4: \n",
      "las especificaciones son Dell - Inspiron 15.6\" Touch-Screen Laptop - Intel Core i5 - 8GB Memory - 2TB Hard Drive - Black: \n",
      "la imagen es BestBuy_US/images/products/6097/6097909_sa.jpg: \n",
      "la marca es {\"brand\":\"HP\"}: \n",
      "la valoracion es 4.3: \n",
      "las especificaciones son HP - 15.6\" Touch-Screen Laptop - Intel Core i5 - 8GB Memory - 1TB Hard Drive - HP finish in jet black: \n",
      "la imagen es BestBuy_US/images/products/5868/5868705_sa.jpg: \n",
      "la marca es {\"brand\":\"Dell\"}: \n",
      "la valoracion es 4.3: \n",
      "las especificaciones son Dell - Inspiron 15.6\" Touch-Screen Laptop - Intel Core i3 - 8GB Memory - 1TB Hard Drive - Black: \n",
      "la imagen es BestBuy_US/images/products/5835/5835852_sa.jpg: \n",
      "la marca es {\"brand\":\"Microsoft\"}: \n",
      "la valoracion es 4.8: \n",
      "las especificaciones son Microsoft - Surface Pro Core M with Black Type Cover - Platinum: \n",
      "la imagen es BestBuy_US/images/products/6111/6111206_ra.jpg: \n",
      "la marca es {\"brand\":\"Apple\"}: \n",
      "la valoracion es 4.8: \n",
      "las especificaciones son Apple - MacBook Pro - 13\" Display - Intel Core i5 - 8 GB Memory - 128GB Flash Storage (Latest Model) - Space Gray: \n",
      "la imagen es BestBuy_US/images/products/5721/5721723_sa.jpg: \n",
      "la marca es {\"brand\":\"Lenovo\"}: \n",
      "la valoracion es 4.4: \n",
      "las especificaciones son Lenovo - Yoga 710 2-in-1 15.6\" Touch-Screen Laptop - Intel Core i5 - 8GB Memory - 256GB Solid State Drive - Black: \n",
      "la imagen es BestBuy_US/images/products/5722/5722735_sa.jpg: \n",
      "la marca es {\"brand\":\"HP\"}: \n",
      "la valoracion es 4.5: \n",
      "las especificaciones son HP - 14\" Touch-Screen Laptop - Intel Core i3 - 8GB Memory - 500GB Hard Drive - HP finish in natural silver: \n",
      "la imagen es BestBuy_US/images/products/6113/6113110_sa.jpg: \n",
      "la marca es {\"brand\":\"Apple\"}: \n",
      "la valoracion es 4.8: \n",
      "las especificaciones son Apple - MacBook Pro - 13\" Display - Intel Core i5 - 8 GB Memory - 256GB Flash Storage (Latest Model) - Space Gray: \n",
      "la imagen es BestBuy_US/images/products/5721/5721740_sa.jpg: \n",
      "la marca es {\"brand\":\"Lenovo\"}: \n",
      "la valoracion es 4.3: \n",
      "las especificaciones son Lenovo - Yoga 720 2-in-1 13.3\" Touch-Screen Laptop - Intel Core i5 - 8GB Memory - 256GB Solid State Drive - Platinum Silver: \n",
      "la imagen es BestBuy_US/images/products/6061/6061600_sa.jpg: \n",
      "la marca es {\"brand\":\"Apple\"}: \n",
      "la valoracion es 4.8: \n",
      "las especificaciones son Apple - MacBook Air  - 13.3\" Display - Intel Core i5 - 8GB Memory - 128GB Flash Storage (Latest Model) - Silver: \n",
      "la imagen es BestBuy_US/images/products/5465/5465502_sa.jpg: \n",
      "la marca es {\"brand\":\"Asus\"}: \n",
      "la valoracion es 3.3: \n",
      "las especificaciones son Asus - VivoBook Max X541NA 15.6\" Laptop - Intel Pentium - 4GB Memory - 500GB Hard Drive - Chocolate black: \n",
      "la imagen es BestBuy_US/images/products/6029/6029900_sa.jpg: \n",
      "la marca es {\"brand\":\"HP\"}: \n",
      "la valoracion es 4.4: \n",
      "las especificaciones son HP - 14\" Chromebook - Intel Celeron - 4GB Memory - 16GB eMMC Flash Memory - Silver: \n",
      "la imagen es BestBuy_US/images/products/5733/5733411_sa.jpg: \n",
      "la marca es {\"brand\":\"Lenovo\"}: \n",
      "la valoracion es 4.2: \n",
      "las especificaciones son Lenovo - 15.6\" Laptop - AMD A6-Series - 4GB Memory - 500GB Hard Drive - Black: \n",
      "la imagen es BestBuy_US/images/products/5828/5828200_sa.jpg: \n",
      "la marca es {\"brand\":\"Samsung\"}: \n",
      "la valoracion es 4.6: \n",
      "las especificaciones son Samsung - 11.6\" Chromebook - Intel Celeron - 4GB Memory - 32GB eMMC Flash Memory - Metallic Black: \n",
      "la imagen es BestBuy_US/images/products/5756/5756800_sa.jpg: \n",
      "la marca es {\"brand\":\"HP\"}: \n",
      "la valoracion es 2.8: \n",
      "las especificaciones son HP - 15.6\" Laptop - AMD A6-Series - 4GB Memory - AMD Radeon R4 - 500GB Hard Drive - HP finish in jet black: \n",
      "la imagen es BestBuy_US/images/products/6090/6090905_sa.jpg: \n",
      "la marca es {\"brand\":\"Lenovo\"}: \n",
      "la valoracion es 3.5: \n",
      "las especificaciones son Lenovo - 14\" Laptop - Intel Celeron - 2GB Memory - 32GB eMMC Flash Memory - Mineral Gray: \n",
      "la imagen es BestBuy_US/images/products/6061/6061700_sa.jpg: \n",
      "la marca es {\"brand\":\"Dell\"}: \n",
      "la valoracion es 4.4: \n",
      "las especificaciones son Dell - Inspiron 15.6\" Laptop - Intel Core i5 - 8GB Memory - NVIDIA GeForce GTX 1050 Ti - 256GB Solid State Drive - Black: \n",
      "la imagen es BestBuy_US/images/products/5872/5872507_sa.jpg: \n",
      "la marca es {\"brand\":\"Lenovo\"}: \n",
      "la valoracion es 4.3: \n",
      "las especificaciones son Lenovo - 15.6\" Laptop - AMD A12-Series - 8GB Memory - 1TB Hard Drive - Platinum gray: \n",
      "la imagen es BestBuy_US/images/products/5828/5828300_sa.jpg: \n",
      "la marca es {\"brand\":\"HP\"}: \n",
      "la valoracion es 4.4: \n",
      "las especificaciones son HP - 2-in-1 14\" Touch-Screen Laptop - Intel Core i3 - 6GB Memory - 500GB Hard Drive - HP finish natural silver: \n",
      "la imagen es BestBuy_US/images/products/5868/5868706_sa.jpg: \n",
      "la marca es {\"brand\":\"Asus\"}: \n",
      "la valoracion es 4.4: \n",
      "las especificaciones son Asus - 2-in-1 15.6\" Touch-Screen Laptop - Intel Core i5 - 12GB Memory - 1TB Hard Drive - Sandblasted aluminum silver with chrome hinge: \n",
      "la imagen es BestBuy_US/images/products/5768/5768400_sa.jpg: \n",
      "la marca es {\"brand\":\"Asus\"}: \n",
      "la valoracion es 4.1: \n",
      "las especificaciones son Asus - 2-in-1 15.6\" Touch-Screen Laptop - Intel Core i7 - 12GB Memory - NVIDIA GeForce 940MX - 2TB Hard Drive - Sandblasted matte black aluminum: \n",
      "la imagen es BestBuy_US/images/products/5722/5722708_sa.jpg: \n",
      "la marca es {\"brand\":\"Acer\"}: \n",
      "la valoracion es 4.7: \n",
      "las especificaciones son Acer - R 11 2-in-1 11.6\" Touch-Screen Chromebook - Intel Celeron - 4GB Memory - 32GB eMMC Flash Memory - White: \n",
      "la imagen es BestBuy_US/images/products/5715/5715524_sa.jpg: \n",
      "la marca es {\"brand\":\"Apple\"}: \n",
      "la valoracion es 4.9: \n",
      "las especificaciones son Apple - MacBook Pro  - 13\" Display - Intel Core i5 - 8 GB Memory - 256GB Flash Storage (Latest Model) - Space Gray: \n",
      "la imagen es BestBuy_US/images/products/5721/5721601_sa.jpg: \n",
      "la marca es {\"brand\":\"Apple\"}: \n",
      "la valoracion es 4.8: \n",
      "las especificaciones son Apple - MacBook Pro  - 15\" Display - Intel Core i7 - 16 GB Memory - 256GB Flash Storage (Latest Model) - Space Gray: \n",
      "la imagen es BestBuy_US/images/products/5721/5721702_sa.jpg: \n"
     ]
    }
   ],
   "source": [
    "filename =\"laptops.csv\"  #defino un archivo donde guardare el resultado del web scraping\n",
    "f = open(filename, \"w\")\n",
    "#los headers de mi archivo csv\n",
    "headers = \"brand\", \"rating\", \"price\", \"specs\", \"image\\n\"\n",
    "#f.write(\"headers\")\n",
    "\n",
    "\n",
    "#recordemos el valor de containers: containers =  page_soup.findAll(\"div\" ,{\"class\":\"list-item\"})\n",
    "#es decir nos va a dar todos los bloques en la web que tengan las etiquetas div y class=list-item\n",
    "#es decir, nos va  adar todos los laptop de la pagina\n",
    "\n",
    "for container in containers:\n",
    "    brand = container[\"data-brand\"].encode('ascii', 'ignore')\n",
    "    rating = container[\"data-average-rating\"].encode('ascii', 'ignore')\n",
    "    price = container[\"data-price\"].encode('ascii', 'ignore')\n",
    "    specs = container[\"data-name\"].encode('ascii', 'ignore')\n",
    "    image = container[\"data-img-path\"].encode('ascii', 'ignore')\n",
    "    print \"la marca es %s: \" %  brand\n",
    "    print \"la valoracion es %s: \" % rating\n",
    "    print \"las especificaciones son %s: \" % specs\n",
    "    print \"la imagen es %s: \" % image\n",
    "    #print (\"brand: \" + brand ).encode('ascii', 'ignore')\n",
    "    #print (\"rating: \" + rating ).encode('ascii', 'ignore')\n",
    "    #print (\"price: \" + price ).encode('ascii', 'ignore')\n",
    "    #print (\"specs: \" + specs ).encode('ascii', 'ignore')\n",
    "    #print (\"image: \" + image ).encode('ascii', 'ignore')\n",
    "    \n",
    "    f.write( brand + \",\" + rating + \",\" + price + \",\" + specs + \",\" + image + \"\\n\" )\n",
    "\n",
    "f.close()"
   ]
  },
  {
   "cell_type": "code",
   "execution_count": null,
   "metadata": {
    "collapsed": true
   },
   "outputs": [],
   "source": [
    "#esto me genera un archivo csv donde quedan almacenadas las caracteristicas que queria obtener de cada laptop"
   ]
  },
  {
   "cell_type": "markdown",
   "metadata": {
    "collapsed": true
   },
   "source": [
    "### MEJORAS AL EJERCICIO\n",
    "\n",
    "* no me saca los headers del archivo csv, a pesar de haberlos definido\n",
    "* No soy capaz de hacer un crawl horizontal y saltar al resto de paginas. Mi archivo csv solo contiene los datos de la primera pagina. Se que tendria que hacer un for y modificar la url para anyadir lo que diferencia a cada pagina pero no me sale todo lo que he probado. Seria algo asi:\n",
    "\n",
    "#url_salto = ['/pagina2', '/pagina3', '/pagina4', ........'/pagina10'] \n",
    "\n",
    "#for url in url_salto:\n",
    "  #my_url = \"https://www.bestbuy.com/site/laptop-computers/all-laptops/pcmcat138500050001.c?id=pcmcat138500050001\" + url_salto\n",
    "  #.....................................................................\n",
    "  #.....................................................................\n",
    "  #.....................................................................\n",
    "\n",
    "\n"
   ]
  }
 ],
 "metadata": {
  "kernelspec": {
   "display_name": "Python 2",
   "language": "python",
   "name": "python2"
  },
  "language_info": {
   "codemirror_mode": {
    "name": "ipython",
    "version": 2
   },
   "file_extension": ".py",
   "mimetype": "text/x-python",
   "name": "python",
   "nbconvert_exporter": "python",
   "pygments_lexer": "ipython2",
   "version": "2.7.13"
  }
 },
 "nbformat": 4,
 "nbformat_minor": 2
}
